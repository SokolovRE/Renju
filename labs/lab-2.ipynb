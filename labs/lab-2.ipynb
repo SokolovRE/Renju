{
 "cells": [
  {
   "cell_type": "markdown",
   "metadata": {},
   "source": [
    "# L2 - Multilayer perceptron\n",
    "\n",
    "### Papers\n",
    "1. [TensorFlow](https://static.googleusercontent.com/media/research.google.com/en//pubs/archive/45166.pdf)\n",
    "\n",
    "### TensorFlow\n",
    "1. [Installing TensorFlow](https://www.tensorflow.org/install/)\n",
    "2. [Basics of TensorFlow](https://www.tensorflow.org/get_started/get_started)\n",
    "3. [Mnist with TensorFlow](https://www.tensorflow.org/get_started/mnist/pros)\n",
    "4. [TensorFlow Mechanics](https://www.tensorflow.org/get_started/mnist/mechanics)\n",
    "5. [Visualization](https://www.tensorflow.org/get_started/graph_viz)\n",
    "\n",
    "\n",
    "### One more thing\n",
    "1. [Jupyter tutorial](https://habrahabr.ru/company/wunderfund/blog/316826/)\n",
    "2. [Plot.ly](https://plot.ly/python/)\n",
    "3. [Widgets](http://jupyter.org/widgets.html)"
   ]
  },
  {
   "cell_type": "markdown",
   "metadata": {},
   "source": [
    "### 1. Linear multi-classification problem\n",
    "\n",
    "We have already learned binary linear classifier\n",
    "$$y = \\text{sign}(w^Tx).$$\n",
    "There are [several approaches](https://en.wikipedia.org/wiki/Multiclass_classification) to solve the problem of multi-class classification. For example [reduction](https://en.wikipedia.org/wiki/Multiclass_classification#Transformation_to_Binary) of problem to binary classifier or [modification](https://en.wikipedia.org/wiki/Support_vector_machine#Multiclass_SVM) of the known model. However we are interested in approaches that is applied in neural networks.\n",
    "\n",
    "For each class $c \\in 1, \\dots, |C|$ we have an individual row $w_i$ of matrix $W$. Then the probability of $x$ belonging to a particular class is equal to\n",
    "$$p_i = \\frac{\\exp(w^T_ix)}{\\sum_j \\exp(w^T_jx)}.$$\n",
    "This is nothing, but [softmax](https://en.wikipedia.org/wiki/Softmax_function) function of $Wx$.\n",
    "$$(p_1, \\dots, p_{|C|}) = \\text{softmax}(Wx).$$\n",
    "\n",
    "If you look closely, $\\text{softmax}$ is a more general variant of sigmoid. To see this, it suffices to consider the case $|C|=2$. As usual the training can be reduced to minimization of the empirical risk, namely, optimization problem\n",
    "$$\\arg\\min_W Q(W) = \\arg\\min_W -\\frac{1}{\\mathcal{l}}\\sum_y\\sum_i [y = i] \\cdot \\ln(p_i(W)).$$\n",
    "Actually, the maximization of the log-likelihood is written above.\n",
    "\n",
    "#### Exercises\n",
    "1. Find $\\frac{dQ}{dW}$ in matrix form (hint: start with $\\frac{dQ}{dw_i}$ for begining).\n",
    "2. Please plot several mnist images (e.g using grid 5x5).\n",
    "3. Train linear multi-label classifier for [mnist](https://www.kaggle.com/c/digit-recognizer) dataset with TensorFlow (possible, [this tutorial](https://www.tensorflow.org/get_started/mnist/pros) can help you).\n",
    "4. Chek accuracy on train and validation sets.\n",
    "5. Use a local [TensorBoard instance](https://www.tensorflow.org/get_started/graph_viz) to visualize resulted graph (no need to include in lab)."
   ]
  },
  {
   "cell_type": "markdown",
   "metadata": {},
   "source": [
    "Если мы обозначим конкретное $i$ для которого $[y = i]$ то наша функция потерь будет выглядеть так:\n",
    "\n",
    "$$Q(W) = -\\frac{1}{\\mathcal{l}} \\ln(p_i(W)) = -\\frac{1}{\\mathcal{l}} \\ln{\\frac{\\exp(w^T_ix)}{\\sum\\limits_j \\exp(w^T_jx)}} = -\\frac{1}{\\mathcal{l}} \\big( \\ln{(\\exp(w^T_ix))} - \\ln{(\\sum\\limits_j \\exp(w^T_jx))} \\big) = -\\frac{1}{\\mathcal{l}} \\big( w^T_ix - \\ln{(\\sum\\limits_j \\exp(w^T_jx))} \\big)$$\n",
    "\n",
    "Возмём производную по $w_{ik}$:\n",
    "\n",
    "$$\\frac{dQ}{dw_{ik}} = -\\frac{1}{\\mathcal{l}} \\big( x_k - \\frac{\\exp(w^T_ix)}{\\sum\\limits_j \\exp(w^T_jx)} \\cdot x_k \\big) = -\\frac{1}{\\mathcal{l}} \\big( x_k - p_i \\cdot x_k \\big)$$\n",
    "\n",
    "Тогда по сути мы нашли $\\frac{dQ}{dw_i} = -\\frac{1}{\\mathcal{l}} (x^T - p_ix^T)$ где умножение на $p_i$ поэлементное. Для остальных строчек производная будет выглядеть так же только без $x^T$ в начале и берём $j$ элемент софтмакса."
   ]
  },
  {
   "cell_type": "code",
   "execution_count": 1,
   "metadata": {
    "collapsed": true
   },
   "outputs": [],
   "source": [
    "import numpy as np\n",
    "import pandas as pd\n",
    "import tensorflow as tf\n",
    "import matplotlib.pyplot as plt\n",
    "\n",
    "%matplotlib inline"
   ]
  },
  {
   "cell_type": "code",
   "execution_count": 2,
   "metadata": {
    "collapsed": true
   },
   "outputs": [],
   "source": [
    "mnist = pd.read_csv(\"train.csv\", sep = ',')\n",
    "mnist = mnist.sample(frac=1).values\n",
    "\n",
    "def parse_data(l, r, data):\n",
    "    X = data[l:r, 1:]\n",
    "    X = np.concatenate((X, np.ones((len(X), 1))), axis=1)\n",
    "    temp = []\n",
    "    Y = np.array([data[l:r,0]]).T\n",
    "    for i in range(len(Y)):\n",
    "        temp.append(np.zeros(10))\n",
    "        temp[i][Y[i]] += 1\n",
    "    Y = np.array(temp)\n",
    "    return X, Y\n",
    "\n",
    "train_X, train_Y = parse_data(0, int(len(mnist) * 0.7), mnist)\n",
    "valid_X, valid_Y = parse_data(int(len(mnist) * 0.7), int(len(mnist) * 0.85), mnist)\n",
    "test_X, test_Y = parse_data(int(len(mnist) * 0.85), len(mnist), mnist)\n",
    "\n",
    "len_X = len(mnist[0])\n",
    "classes = 10"
   ]
  },
  {
   "cell_type": "code",
   "execution_count": 3,
   "metadata": {},
   "outputs": [
    {
     "data": {
      "image/png": "[encoded data removed]",
      "text/plain": [
       "<matplotlib.figure.Figure at 0x7fe48c4640b8>"
      ]
     },
     "metadata": {},
     "output_type": "display_data"
    }
   ],
   "source": [
    "fig = plt.figure(figsize=(16, 8))\n",
    "\n",
    "ax1 = fig.add_subplot(141)\n",
    "ax2 = fig.add_subplot(142)\n",
    "ax3 = fig.add_subplot(143)\n",
    "ax4 = fig.add_subplot(144)\n",
    "\n",
    "ax1.imshow(np.resize(train_X[0], (28, 28)), cmap=\"gray_r\")\n",
    "ax2.imshow(np.resize(train_X[1], (28, 28)), cmap=\"gray_r\")\n",
    "ax3.imshow(np.resize(train_X[2], (28, 28)), cmap=\"gray_r\")\n",
    "ax4.imshow(np.resize(train_X[3], (28, 28)), cmap=\"gray_r\")\n",
    "\n",
    "plt.show()"
   ]
  },
  {
   "cell_type": "code",
   "execution_count": 25,
   "metadata": {
    "collapsed": true
   },
   "outputs": [],
   "source": [
    "sess = tf.Session(config=tf.ConfigProto(log_device_placement=True))\n",
    "\n",
    "X = tf.placeholder(tf.float32, shape=[None, len_X], name='X')\n",
    "Y_ = tf.placeholder(tf.float32, shape=[None, classes], name='Answer')\n",
    "\n",
    "W = tf.Variable(tf.zeros([len_X, classes]), name='Weights')\n",
    "\n",
    "First_layer = tf.matmul(X, W, name='First_layer')\n",
    "\n",
    "Check_prediction = tf.equal(tf.argmax(First_layer,1), tf.argmax(Y_,1), name='Check_prediction')\n",
    "Accuracy = tf.reduce_mean(tf.cast(Check_prediction, tf.float32), name='Accuracy')\n",
    "\n",
    "Softmax = tf.reduce_mean(tf.nn.softmax_cross_entropy_with_logits(labels=Y_, logits=First_layer), name='Softmax')"
   ]
  },
  {
   "cell_type": "code",
   "execution_count": 27,
   "metadata": {},
   "outputs": [
    {
     "name": "stdout",
     "output_type": "stream",
     "text": [
      "Качество модели на обучении: 0.907037\n",
      "Качество модели на валидации: 0.882717\n",
      "Качество модели на тестировании: 0.89254\n"
     ]
    }
   ],
   "source": [
    "def gradient_descent(loss_function, alpha=0.5, epochs=10, batch_size=100, info=False):\n",
    "    train_step = tf.train.GradientDescentOptimizer(alpha).minimize(loss_function)\n",
    "    batch_separators = tuple(np.arange(batch_size, len(train_X), batch_size))\n",
    "    batch_X = np.vsplit(train_X, batch_separators)\n",
    "    batch_Y = np.vsplit(train_Y, batch_separators)\n",
    "    epochs_left = epochs\n",
    "    while epochs_left:\n",
    "        epochs_left -= 1\n",
    "        for i in range(len(batch_X)):\n",
    "            sess.run(train_step, feed_dict={X: batch_X[i], Y_: batch_Y[i]})\n",
    "        if info:\n",
    "            print('Эпоха номер:', epochs - epochs_left)\n",
    "            print('Точность на обучении:', sess.run(Accuracy, feed_dict={X: batch_X[0], Y_: batch_Y[0]}))\n",
    "            print('Точность на валидации:', sess.run(Accuracy, feed_dict={X: valid_X, Y_: valid_Y}))\n",
    "    writer = tf.summary.FileWriter(\"logs\")\n",
    "    writer.add_graph(sess.graph)\n",
    "    print(\"Качество модели на обучении:\", sess.run(Accuracy, feed_dict={X: train_X, Y_: train_Y}))\n",
    "    print(\"Качество модели на валидации:\", sess.run(Accuracy, feed_dict={X: valid_X, Y_: valid_Y}))\n",
    "    print(\"Качество модели на тестировании:\", sess.run(Accuracy, feed_dict={X: test_X, Y_: test_Y}))\n",
    "\n",
    "\n",
    "sess.run(tf.global_variables_initializer())\n",
    "gradient_descent(Softmax, epochs=20, batch_size=100, alpha=0.01)"
   ]
  },
  {
   "cell_type": "markdown",
   "metadata": {},
   "source": [
    "Let's briefly touch on themes of regularization. As was discussed before, there are different approaches. We focus on the modification of loss function.\n",
    "\n",
    "$$\\arg\\min_W -\\frac{1}{\\mathcal{l}}\\sum_y\\sum_i [y = i] \\cdot \\ln(p_i(W)) + \\lambda_1 L_1(W) + \\lambda_2 L_2(W)$$\n",
    "\n",
    "1. $L_1(W) = sum_{i,j} |w_{i,j}|$ - sparsify weights (force to not use uncorrelated features)\n",
    "2. $L_2(W) = sum_{i,j} w_{i,j}^2$ - minimize weights (force to not overfit)\n",
    "\n",
    "#### Exercises\n",
    "1. Train model again using both type of regularization.\n",
    "2. Plot matrix of weights.\n",
    "3. Which pixels have zero weights? What does it mean?\n",
    "4. Have you improved accuracy on validation?"
   ]
  },
  {
   "cell_type": "code",
   "execution_count": 28,
   "metadata": {},
   "outputs": [
    {
     "name": "stdout",
     "output_type": "stream",
     "text": [
      "Качество модели на обучении: 0.907037\n",
      "Качество модели на валидации: 0.882717\n",
      "Качество модели на тестировании: 0.89254\n"
     ]
    }
   ],
   "source": [
    "lamb_1 = 0.05\n",
    "lamb_2 = 0.05\n",
    "\n",
    "L1 = tf.reduce_sum(tf.abs(W), name='L1_Regularization')\n",
    "L2 = tf.reduce_sum(tf.multiply(W, W), name='L2_Regularization')\n",
    "\n",
    "Regularization_loss = Softmax + lamb_1 * L1 + lamb_2 * L2\n",
    "sess.run(tf.global_variables_initializer())\n",
    "gradient_descent(Softmax, epochs=20, alpha=0.01)"
   ]
  },
  {
   "cell_type": "markdown",
   "metadata": {},
   "source": [
    "### 2. Universal approximation theorem\n",
    "\n",
    "What if we add more layers to our model? Namely, we train two matrix $W_2$ and $W_1$\n",
    "$$softmax(W_2\\cdot(W_1x)).$$\n",
    "\n",
    "At first glance adding more parameters helps to increase the generalizing ability of the model. Buy actually we have the same model $softmax(Wx)$, where $W = W_2\\cdot W_1$. But everyting changes with adding ome more layer. Let's add nonlinear function $\\sigma$ between $W_2$ and $W_1$\n",
    "\n",
    "$$softmax(W_2\\cdot \\sigma(W_1x)).$$\n",
    "\n",
    "Kurt Hornik showed in 1991 that it is not the specific choice of the nonlinear function, but rather the multilayer feedforward architecture itself which gives neural networks the potential of being universal approximators. The output units are always assumed to be linear. For notational convenience, only the single output case will be shown. The general case can easily be deduced from the single output case.\n",
    "\n",
    "Let $\\sigma(\\cdot)$ be a nonconstant, bounded, and monotonically-increasing continuous function.\n",
    "Let $\\mathcal{S}_m \\subset \\mathbb{R}^m$ denote any compact set. \n",
    "Then, given any $\\varepsilon > 0$ and any coninuous function $f$ on $\\mathcal{S}_m$, there exist an integer $N$ and real constants $v_i$, $b_i$ amd real vectors $w_i$ that\n",
    "\n",
    "$$\\left| \\sum _{i=1}^{N}v_{i}\\sigma \\left( w_i^{T} x+b_i \\right) - f(x) \\right| < \\varepsilon, ~~~ \\forall x \\in \\mathcal{S}_m.$$\n",
    "\n",
    "The theorem has non-constructive proof, it meams that no estimates for $N$ and no method to find approximation's parameters.\n",
    "\n",
    "#### Exercises\n",
    "1. Let $\\sigma$ – [heaviside step function](https://en.wikipedia.org/wiki/Heaviside_step_function) and $x \\in \\{0, 1\\}^2$. Prove that $y = \\sigma(wx + b)$ can approximate boolean function **OR** (hint: use constructive proof).\n",
    "2. What about **AND** function?\n",
    "3. Is it possible to implement **XOR**? Prove your words.\n",
    "4. Prove that 2-layer network can implement any boolean function.\n",
    "\n",
    "#### More useful facts:\n",
    "1. A 2-layer network in in $\\mathbb{R}^n$ allows to define convex polyhedron..\n",
    "2. A 3-layer network in в $\\mathbb{R}^n$ allows to define a not necessarily convex and not even necessarily connected area."
   ]
  },
  {
   "cell_type": "markdown",
   "metadata": {},
   "source": [
    "### 3. Backpropagation\n",
    "Backpropagation is a method used to calculate the error contribution of each layer after a batch of data. It is a special case of an older and more general technique called automatic differentiation. In the context of learning, backpropagation is commonly used by the gradient descent optimization algorithm to adjust the weight of layers by calculating the gradient of the loss function. This technique is also sometimes called backward propagation of errors, because the error is calculated at the output and distributed back through the network layers. The main motivation of method is simplify evaluation of gradient which is complex problem for multilayer nets.\n",
    "\n",
    "We need the following notation. Let $(y^1,\\dots,y^n) = f(x^1,\\dots,x^n)$ is some differentiable function and $\\frac{dy}{dx}$ is matrix\n",
    "$$\\frac{dy}{dx} = \\Big[ J_{ij} = \\frac{\\partial y^i}{\\partial x^j} \\Big]$$\n",
    "\n",
    "Without violating the generality, we can assume that each layer is a function $x_{i} = f(x_{i-1}, w_i)$. As last layer we add loss function, so we can assume our multi-layer net as function $Q(x_0) = Q(f_n(f_{n-1}(\\dots, w_{n-1}), w_n))$.\n",
    "\n",
    "#### Forward step\n",
    "Propagation forward through the network to generate the output values. Calculation of the loss function.\n",
    "\n",
    "#### Backward step\n",
    "Let's look at last layer. We can simply find $\\frac{dQ}{dx_n}$. Now we can evaluate \n",
    "\n",
    "$$\\frac{dQ}{dw_n} = \\frac{dQ}{dx_n}\\frac{dx_n}{dw_n} \\text{ and } \\frac{dQ}{dx_{n-1}} = \\frac{dQ}{dx_n}\\frac{dx_n}{dx_{n-1}}$$\n",
    "\n",
    "Now we need calculate $\\frac{dQ}{dw_{n-2}}$ и $\\frac{dQ}{dx_{n-2}}$. But we have the same situation. We know $\\frac{dQ}{dx_k}$, so can evaluate $\\frac{dQ}{dw_k}$ and $\\frac{dQ}{dx_{k-1}}$. Repeating this operation we find all the gradients. Now it's only remains to make a gradient step to update weights.\n",
    "\n",
    "#### Exercises\n",
    "1. Read more about [vanishing gradient](https://en.wikipedia.org/wiki/Vanishing_gradient_problem).\n",
    "2. Train 2 layer net. Use sigmoid as nonlinearity.\n",
    "3. Check accuracy on validation set.\n",
    "4. Use [ReLu](https://en.wikipedia.org/wiki/Rectifier_(neural_networks) or LeakyReLu as nonlinearity. Compare accuracy and convergence with previous model.\n",
    "5. Play with different architectures (add more layers, regularization and etc).\n",
    "6. Show your best model.\n",
    "7. How does quality change with adding layers. Prove your words, train model for 2, 3, 5, 7 and 10 layers.\n",
    "8. Using backpropagation find optimal  digit 8 for your net.*"
   ]
  },
  {
   "cell_type": "code",
   "execution_count": null,
   "metadata": {
    "collapsed": true
   },
   "outputs": [],
   "source": []
  },
  {
   "cell_type": "markdown",
   "metadata": {},
   "source": [
    "### 4. Autoencoders\n",
    "An autoencoder is an network used for unsupervised learning of efficient codings. The aim of an autoencoder is to learn a representation (encoding) for a set of data, typically for the purpose of dimensionality reduction. Also, this technique can be used to train deep nets.\n",
    "\n",
    "Architecturally, the simplest form of an autoencoder is a feedforward net very similar to the multilayer perceptron (MLP), but with the output layer having the same number of nodes as the input layer, and with the purpose of reconstructing its own inputs. Therefore, autoencoders are unsupervised learning models. An autoencoder always consists of two parts, the encoder and the decoder. Encoder returns latent representation of the object (compressed representation, usuallu smaller dimension), but decoder restores object from this latent representation. Autoencoders are also trained to minimise reconstruction errors (e.g. MSE).\n",
    "\n",
    "Various techniques exist to prevent autoencoders from learning the identity and to improve their ability to capture important information:\n",
    "1. Denoising autoencoder - take a partially corrupted input.\n",
    "2. Sparse autoencoder - impose sparsity on the hidden units during training (whilst having a larger number of hidden units than inputs).\n",
    "3. Variational autoencoder models inherit autoencoder architecture, but make strong assumptions concerning the distribution of latent variables.\n",
    "4. Contractive autoencoder - add an explicit regularizer in objective function that forces the model to learn a function that is robust to slight variations of input values.\n",
    "\n",
    "#### Exercises\n",
    "1. Train 2 layers autoencoder that compressed mnist images to $\\mathbb{R}^3$ space.\n",
    "2. For each digit plot several samples in 3D axis (use \"%matplotlib notebook\" mode or plotly). How do digits group?\n",
    "3. Train autoencoder with more layers. What are results?\n",
    "4. Use autoencoder to pretrain 2 layers (unsupervised) and then train the following layers with supervised method."
   ]
  }
 ],
 "metadata": {
  "kernelspec": {
   "display_name": "Python 3",
   "language": "python",
   "name": "python3"
  },
  "language_info": {
   "codemirror_mode": {
    "name": "ipython",
    "version": 3
   },
   "file_extension": ".py",
   "mimetype": "text/x-python",
   "name": "python",
   "nbconvert_exporter": "python",
   "pygments_lexer": "ipython3",
   "version": "3.6.3"
  }
 },
 "nbformat": 4,
 "nbformat_minor": 1
}
