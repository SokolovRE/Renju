{
 "cells": [
  {
   "cell_type": "code",
   "execution_count": 0,
   "metadata": {
    "colab": {
     "autoexec": {
      "startup": false,
      "wait_interval": 0
     }
    },
    "colab_type": "code",
    "collapsed": true,
    "id": "R4TKYWghAKT8"
   },
   "outputs": [],
   "source": [
    "import numpy as np\n",
    "import pandas as pd\n",
    "import tensorflow as tf\n",
    "import matplotlib.pyplot as plt\n",
    "from IPython.display import clear_output\n",
    "from sklearn.utils import shuffle\n",
    "\n",
    "%matplotlib inline"
   ]
  },
  {
   "cell_type": "code",
   "execution_count": 2,
   "metadata": {
    "colab": {
     "autoexec": {
      "startup": false,
      "wait_interval": 0
     },
     "base_uri": "https://localhost:8080/",
     "height": 34
    },
    "colab_type": "code",
    "executionInfo": {
     "elapsed": 934,
     "status": "ok",
     "timestamp": 1525377484716,
     "user": {
      "displayName": "Роман Соколов",
      "photoUrl": "https://lh3.googleusercontent.com/a/default-user=s128",
      "userId": "114170197370675117519"
     },
     "user_tz": -180
    },
    "id": "-Wf5PoLPAe2e",
    "outputId": "09bd0594-aff6-49a9-ae52-77553bd4005e"
   },
   "outputs": [
    {
     "name": "stdout",
     "output_type": "stream",
     "text": [
      "Found GPU at: /device:GPU:0\n"
     ]
    }
   ],
   "source": [
    "import tensorflow as tf\n",
    "device_name = tf.test.gpu_device_name()\n",
    "if device_name != '/device:GPU:0':\n",
    "    raise SystemError('GPU device not found')\n",
    "print('Found GPU at: {}'.format(device_name))"
   ]
  },
  {
   "cell_type": "code",
   "execution_count": null,
   "metadata": {
    "collapsed": true
   },
   "outputs": [],
   "source": [
    "!apt-get install -y -qq software-properties-common python-software-properties module-init-tools\n",
    "!add-apt-repository -y ppa:alessandro-strada/ppa 2>&1 > /dev/null\n",
    "!apt-get update -qq 2>&1 > /dev/null\n",
    "!apt-get -y install -qq google-drive-ocamlfuse fuse\n",
    "\n",
    "from google.colab import auth\n",
    "auth.authenticate_user()\n",
    "\n",
    "from oauth2client.client import GoogleCredentials\n",
    "creds = GoogleCredentials.get_application_default()\n",
    "import getpass\n",
    "!google-drive-ocamlfuse -headless -id={creds.client_id} -secret={creds.client_secret} < /dev/null 2>&1 | grep URL\n",
    "vcode = getpass.getpass()\n",
    "!echo {vcode} | google-drive-ocamlfuse -headless -id={creds.client_id} -secret={creds.client_secret}\n",
    "\n",
    "!mkdir -p drive\n",
    "!google-drive-ocamlfuse drive"
   ]
  },
  {
   "cell_type": "code",
   "execution_count": 3,
   "metadata": {
    "colab": {
     "autoexec": {
      "startup": false,
      "wait_interval": 0
     },
     "base_uri": "https://localhost:8080/",
     "height": 34
    },
    "colab_type": "code",
    "executionInfo": {
     "elapsed": 760,
     "status": "ok",
     "timestamp": 1525377485838,
     "user": {
      "displayName": "Роман Соколов",
      "photoUrl": "https://lh3.googleusercontent.com/a/default-user=s128",
      "userId": "114170197370675117519"
     },
     "user_tz": -180
    },
    "id": "nq6OUAX4AKUK",
    "outputId": "7a37c177-980c-4710-cb31-7a92166773e2"
   },
   "outputs": [
    {
     "name": "stderr",
     "output_type": "stream",
     "text": [
      "Using TensorFlow backend.\n"
     ]
    }
   ],
   "source": [
    "from keras.utils.np_utils import to_categorical\n",
    "im_size = 15\n",
    "\n",
    "place = {'a':0, 'b':1, 'c':2, 'd':3, 'e':4, 'f':5, \n",
    "         'g':6, 'h':7, 'j':8, 'k':9, 'l':10, 'm':11, \n",
    "         'n':12, 'o':13, 'p':14}\n",
    "letters = ['a', 'b', 'c', 'd', 'e', 'f', \n",
    "           'g', 'h', 'j', 'k', 'l', 'm', \n",
    "           'n', 'o', 'p']\n",
    "for i in range(15):\n",
    "    place[i] = letters[i]\n",
    "    \n",
    "def parse(train_file, max_games=9999999999):\n",
    "    win = []\n",
    "    all_X = []\n",
    "    all_Y = []\n",
    "    for i, line in enumerate(train_file):\n",
    "        if (i == max_games):\n",
    "            break\n",
    "        if (i%100 == 0):\n",
    "            print(i, end='\\r')\n",
    "        win.append(line[0])\n",
    "        line = line.split(' ')[1:]\n",
    "        position = np.zeros((im_size, im_size, 1))\n",
    "        col = 1\n",
    "        for turn in line:\n",
    "            if win[-1] == 'w' and col = 1:\n",
    "                all_X.append(position.tolist())\n",
    "                all_Y.append((place[turn[0]])*im_size+int(turn[1:])-1)\n",
    "            position[place[turn[0]]][int(turn[1:])-1][0] = col\n",
    "            col *= -1\n",
    "        i += 1\n",
    "    win = np.array(win)\n",
    "    return np.array(all_X), to_categorical(np.array(all_Y), num_classes=225)\n",
    "\n",
    "white_games = 0\n",
    "black_games = 0\n",
    "ind = 0\n",
    "train_file = open('drive/Colab Notebooks/model/train-1.renju', \"r\")\n",
    "for line in train_file:\n",
    "    if ind == (1984694 - 20000):\n",
    "        break\n",
    "    ind += 1\n",
    "    if line[0] == 'w':\n",
    "        white_games += 1\n",
    "    if line[0] == 'b':\n",
    "        black_games += 1"
   ]
  },
  {
   "cell_type": "code",
   "execution_count": 0,
   "metadata": {
    "colab": {
     "autoexec": {
      "startup": false,
      "wait_interval": 0
     }
    },
    "colab_type": "code",
    "collapsed": true,
    "id": "GXLjYcRiAKUu"
   },
   "outputs": [],
   "source": [
    "from keras.models import Model\n",
    "from keras import backend as K\n",
    "from keras.callbacks import Callback\n",
    "from keras.callbacks import ModelCheckpoint\n",
    "from keras.utils import Sequence\n",
    "\n",
    "from keras.layers import (Input, concatenate, Conv2D, MaxPooling2D, \n",
    "                          UpSampling2D, Convolution2D, ZeroPadding2D, \n",
    "                          BatchNormalization, Activation, concatenate, Flatten)\n",
    "from keras.optimizers import Adam\n",
    "\n",
    "def simple_policy():\n",
    "    inputs = Input(shape=(15, 15, 1))\n",
    "    conv = Conv2D(filters=256, kernel_size=(3,3), padding='same')(inputs)\n",
    "    batchnorm = BatchNormalization()(conv)\n",
    "    active = Activation('relu')(batchnorm)\n",
    "    conv = Conv2D(filters=256, kernel_size=(3,3), padding='same')(active)\n",
    "    batchnorm = BatchNormalization()(conv)\n",
    "    active = Activation('relu')(batchnorm)\n",
    "    conv = Conv2D(filters=256, kernel_size=(3,3), padding='same')(active)\n",
    "    batchnorm = BatchNormalization()(conv)\n",
    "    active = Activation('relu')(batchnorm)\n",
    "    conv = Conv2D(filters=128, kernel_size=(3,3), padding='same')(active)\n",
    "    batchnorm = BatchNormalization()(conv)\n",
    "    active = Activation('relu')(batchnorm)\n",
    "    conv = Conv2D(filters=64, kernel_size=(3,3), padding='same')(active)\n",
    "    batchnorm = BatchNormalization()(conv)\n",
    "    active = Activation('relu')(batchnorm)\n",
    "    conv = Conv2D(filters=1, kernel_size=(1,1), padding='same')(active)\n",
    "    predictions = Activation('softmax')(Flatten()(conv))\n",
    "    return Model(inputs=inputs, outputs=predictions)\n",
    "\n",
    "def train_gen(win):\n",
    "    train_file = open('drive/Colab Notebooks/model/train-1.renju', \"r\")\n",
    "    ind = 0\n",
    "    im_size = 15\n",
    "    for line in train_file:\n",
    "        if ind == (1984694 - 20000):\n",
    "            break\n",
    "        ind += 1\n",
    "        if line[0] != win:\n",
    "            continue\n",
    "        X = []\n",
    "        Y = []\n",
    "        line = line.split(' ')[1:]\n",
    "        win_col = 1\n",
    "        if win == 'w':\n",
    "            win_col = -1\n",
    "        \n",
    "        position = np.zeros((im_size, im_size, 1))\n",
    "        col = 1\n",
    "        for turn in line:\n",
    "            i = place[turn[0]]\n",
    "            j = (int(turn[1:])-1)\n",
    "            if col == win_col:\n",
    "                X.append(position.tolist())\n",
    "                Y.append((i)*im_size+j)\n",
    "            position[i][j][0] = col\n",
    "            col *= -1\n",
    "            \n",
    "        position = np.zeros((im_size, im_size, 1))\n",
    "        col = 1\n",
    "        for turn in line:\n",
    "            i = 14-place[turn[0]]\n",
    "            j = (int(turn[1:])-1)\n",
    "            if col == win_col:\n",
    "                X.append(position.tolist())\n",
    "                Y.append((i)*im_size+j)\n",
    "            position[i][j][0] = col\n",
    "            col *= -1\n",
    "            \n",
    "        position = np.zeros((im_size, im_size, 1))\n",
    "        col = 1\n",
    "        for turn in line:\n",
    "            i = place[turn[0]]\n",
    "            j = 14-(int(turn[1:])-1)\n",
    "            if col == win_col:\n",
    "                X.append(position.tolist())\n",
    "                Y.append((i)*im_size+j)\n",
    "            position[i][j][0] = col\n",
    "            col *= -1\n",
    "            \n",
    "        position = np.zeros((im_size, im_size, 1))\n",
    "        col = 1\n",
    "        for turn in line:\n",
    "            i = 14-place[turn[0]]\n",
    "            j = 14-(int(turn[1:])-1)\n",
    "            if col == win_col:\n",
    "                X.append(position.tolist())\n",
    "                Y.append((i)*im_size+j)\n",
    "            position[i][j][0] = col\n",
    "            col *= -1\n",
    "            \n",
    "        yield np.array(X), to_categorical(np.array(Y), num_classes=225)"
   ]
  },
  {
   "cell_type": "code",
   "execution_count": null,
   "metadata": {
    "collapsed": true
   },
   "outputs": [],
   "source": [
    "model = simple_policy()\n",
    "model.compile(optimizer='adam', loss='categorical_crossentropy', metrics=['accuracy'])\n",
    "checkpoint = ModelCheckpoint('drive/Colab Notebooks/model/white.{epoch:d}_{val_loss:.2f}.hdf5', \n",
    "                             monitor='val_loss', \n",
    "                             verbose=1, \n",
    "                             save_best_only=True, \n",
    "                             period=1,\n",
    "                             save_weights_only=True)\n",
    "model.summary()"
   ]
  },
  {
   "cell_type": "code",
   "execution_count": null,
   "metadata": {
    "collapsed": true
   },
   "outputs": [],
   "source": [
    "valid_X, valid_y = parse(open('drive/Colab Notebooks/model/train_117', 'r'))"
   ]
  },
  {
   "cell_type": "code",
   "execution_count": null,
   "metadata": {
    "collapsed": true
   },
   "outputs": [],
   "source": [
    "try:\n",
    "    model.fit_generator(train_gen('w'), \n",
    "                        steps_per_epoch=white_games, \n",
    "                        epochs=5, \n",
    "                        callbacks=[checkpoint], \n",
    "                        validation_data=(valid_X, valid_y))\n",
    "except KeyboardInterrupt:\n",
    "    model.save_weights('drive/Colab Notebooks/model/white.hdf5')"
   ]
  },
  {
   "cell_type": "code",
   "execution_count": 5,
   "metadata": {
    "colab": {
     "autoexec": {
      "startup": false,
      "wait_interval": 0
     },
     "base_uri": "https://localhost:8080/",
     "height": 141
    },
    "colab_type": "code",
    "executionInfo": {
     "elapsed": 103772,
     "status": "ok",
     "timestamp": 1524844455496,
     "user": {
      "displayName": "Роман Соколов",
      "photoUrl": "https://lh3.googleusercontent.com/a/default-user=s128",
      "userId": "114170197370675117519"
     },
     "user_tz": -180
    },
    "id": "FBVPv1DZAKU0",
    "outputId": "6cfa3023-6053-4afe-cb2e-58e96405a41f"
   },
   "outputs": [
    {
     "name": "stdout",
     "output_type": "stream",
     "text": [
      "epoch: 0\n",
      "left: 1.3556435508077274 / 573.1865406238906\n",
      "1980000 / 1984694\n",
      "Train on 188546 samples, validate on 39601 samples\n",
      "Epoch 1/1\n",
      " 90000/188546 [=============>................] - ETA: 36s - loss: 2.0690 - acc: 0.4255188546/188546 [==============================] - 77s 409us/step - loss: 2.0514 - acc: 0.4291 - val_loss: 2.0998 - val_acc: 0.4028\n"
     ]
    }
   ],
   "source": [
    "import time\n",
    "from IPython.display import clear_output\n",
    "from keras.utils.np_utils import to_categorical\n",
    "model.load_weights('drive/Colab Notebooks/model/weights-0-9')\n",
    "model.compile(optimizer=Adam(lr=1e-4), loss='categorical_crossentropy', metrics=['accuracy'])\n",
    "train_file = open('drive/Colab Notebooks/model/train-1.renju', \"r\")\n",
    "all_X = []\n",
    "all_Y = []\n",
    "i = 0\n",
    "valid_X, valid_y = parse(open('drive/Colab Notebooks/model/train_117', 'r'), 5000)\n",
    "begin = time.time()\n",
    "for ep in range(300):\n",
    "    for line in train_file:\n",
    "        if i <= 500000:\n",
    "          i += 1\n",
    "          continue\n",
    "        line = line.split(' ')[1:]\n",
    "        position = np.zeros((im_size, im_size, 1))\n",
    "        col = 1\n",
    "        for turn in line:\n",
    "            all_X.append(position.tolist())\n",
    "            all_Y.append((place[turn[0]])*im_size+int(turn[1:])-1)\n",
    "            position[place[turn[0]]][int(turn[1:])-1][0] = col\n",
    "            col *= -1\n",
    "        i += 1\n",
    "        if i%100 == 0:\n",
    "          print(i%5000, '/ 5000', end='\\r')\n",
    "        if (i%5000 == 0):\n",
    "            train_X = np.array(all_X)\n",
    "            train_y = to_categorical(np.array(all_Y), num_classes=225)\n",
    "            clear_output()\n",
    "            print('epoch:', ep)\n",
    "            print('left:', (((time.time()-begin)/i)*(1984694-i%1984694))/60, '/', (((time.time()-begin)/i)*1984694)/60)\n",
    "            print((i%1984694), '/', 1984694)\n",
    "            model.fit(train_X, train_y, batch_size=100, epochs=1, validation_data=(valid_X, valid_y))\n",
    "            if (i%50000 == 0):\n",
    "              model.save_weights('drive/Colab Notebooks/model/weights-%d-%d' %(ep, int(i/50000)))\n",
    "            all_X = []\n",
    "            all_Y = []"
   ]
  },
  {
   "cell_type": "code",
   "execution_count": 0,
   "metadata": {
    "colab": {
     "autoexec": {
      "startup": false,
      "wait_interval": 0
     }
    },
    "colab_type": "code",
    "collapsed": true,
    "id": "XVxmAvV1XPBM"
   },
   "outputs": [],
   "source": [
    "model.save_weights('drive/Colab Notebooks/model/weights_epoch')"
   ]
  },
  {
   "cell_type": "code",
   "execution_count": 0,
   "metadata": {
    "colab": {
     "autoexec": {
      "startup": false,
      "wait_interval": 0
     }
    },
    "colab_type": "code",
    "collapsed": true,
    "id": "qZqXQOBtAKU-"
   },
   "outputs": [],
   "source": [
    "class Playground:\n",
    "    def __init__(self, black, white):\n",
    "        self.O = white\n",
    "        self.X = black\n",
    "        self.board = np.zeros((15,15))\n",
    "        self.history = []\n",
    "        self.history_str = \"\"\n",
    "        self.verdict = None\n",
    "        \n",
    "    def upd_hist_str(self, player, x, y):\n",
    "        self.history_str += \"  \"+player+\"-\"+place[x]+str(y+1)\n",
    "        \n",
    "    def is_over(self):\n",
    "        board = self.board\n",
    "        for i in range(11):\n",
    "            for j in range(15):\n",
    "                key = board[i][j]\n",
    "                if key != 0:\n",
    "                    flag = True\n",
    "                    for k in range(5):\n",
    "                        if board[i+k][j] != key:\n",
    "                            flag = False\n",
    "                    if flag:\n",
    "                        return True\n",
    "        for i in range(15):\n",
    "            for j in range(11):\n",
    "                key = board[i][j]\n",
    "                if key != 0:\n",
    "                    flag = True\n",
    "                    for k in range(5):\n",
    "                        if board[i][j+k] != key:\n",
    "                            flag = False\n",
    "                    if flag:\n",
    "                        return True\n",
    "        for i in range(11):\n",
    "            for j in range(11):\n",
    "                key = board[i][j]\n",
    "                if key != 0:\n",
    "                    flag = True\n",
    "                    for k in range(5):\n",
    "                        if board[i+k][j+k] != key:\n",
    "                            flag = False\n",
    "                    if flag:\n",
    "                        return True\n",
    "        for i in range(4, 15):\n",
    "            for j in range(11):\n",
    "                key = board[i][j]\n",
    "                if key != 0:\n",
    "                    flag = True\n",
    "                    for k in range(5):\n",
    "                        if board[i-k][j+k] != key:\n",
    "                            flag = False\n",
    "                    if flag:\n",
    "                        return True\n",
    "        return False\n",
    "        \n",
    "    def paint(self):\n",
    "        clear_output()\n",
    "        print(\"    1   2   3   4   5   6   7   8\" +\n",
    "              \"   9  10  11  12  13  14  15 \")\n",
    "        letters = ['a', 'b', 'c', 'd', 'e', 'f', \n",
    "                   'g', 'h', 'j', 'k', 'l', 'm', \n",
    "                   'n', 'o', 'p']\n",
    "        board = self.board\n",
    "        for i in range(15):\n",
    "            print(\"  \"+\"-\"*61)\n",
    "            print(\"%s |\" %(letters[i]), end=\"\")\n",
    "            for j in range(15):\n",
    "                if (len(self.history) > 0 and\n",
    "                    i == self.history[-1][0] and\n",
    "                    j == self.history[-1][1]):\n",
    "                    if (board[i][j] == -1):\n",
    "                        print(\"|O||\", end=\"\")\n",
    "                    elif (board[i][j] == 1):\n",
    "                        print(\"|X||\", end=\"\")\n",
    "                    elif (board[i][j] == -2):\n",
    "                        print(\"|E||\", end=\"\")\n",
    "                else:\n",
    "                    if (board[i][j] == 0):\n",
    "                        print(\"   |\", end=\"\")\n",
    "                    elif (board[i][j] == -1):\n",
    "                        print(\" O |\", end=\"\")\n",
    "                    else:\n",
    "                        print(\" X |\", end=\"\")\n",
    "                if (j == 14):\n",
    "                    print(\"\")\n",
    "        print(\"  \"+\"-\"*61)\n",
    "        if (len(self.history) > 0):\n",
    "            print(\"\\n  History:\")\n",
    "            print(self.history_str)\n",
    "            print(\"  \"+\"-\"*61)\n",
    "        if (self.verdict != None):\n",
    "            print(self.verdict)\n",
    "        \n",
    "    def start_game(self):\n",
    "        self.paint()\n",
    "        next_p = 'X'\n",
    "        while (self.verdict == None):\n",
    "            if next_p == 'X':\n",
    "                print('  X turn:')\n",
    "                x, y = self.X.move(self)\n",
    "                self.history.append((x, y))\n",
    "                if x == -1:\n",
    "                    self.verdict = '  X gave up. Winner: O'\n",
    "                    self.paint()\n",
    "                    break\n",
    "                self.upd_hist_str(next_p, x, y)\n",
    "                if (self.board[x][y] != 0):\n",
    "                    self.board[x][y] = -2\n",
    "                    self.verdict = '  X made illegal move. Winner: O'\n",
    "                else:\n",
    "                    self.board[x][y] = 1\n",
    "                    if (self.is_over()):\n",
    "                        self.verdict = '  Winner: X';\n",
    "                next_p = 'O'\n",
    "            else:\n",
    "                print('  O turn:')\n",
    "                x, y = self.O.move(self)\n",
    "                self.history.append((x, y))\n",
    "                if x == -1:\n",
    "                    self.verdict = '  O gave up. Winner: X'\n",
    "                    self.paint()\n",
    "                    break\n",
    "                self.upd_hist_str(next_p, x, y)\n",
    "                if (self.board[x][y] != 0):\n",
    "                    self.board[x][y] = -2\n",
    "                    self.verdict = '  O made illegal move. Winner: X'\n",
    "                else:\n",
    "                    self.board[x][y] = -1\n",
    "                    if (self.is_over()):\n",
    "                        self.verdict = '  Winner: O'\n",
    "                next_p = 'X'\n",
    "            if self.verdict == None and len(self.history) == 15*15:\n",
    "                self.verdict = 'Draw'\n",
    "            self.paint()\n",
    "        \n",
    "class Human():\n",
    "    def move(self, playground):\n",
    "        turn = input()\n",
    "        if turn == \"-1\":\n",
    "            return -1, -1\n",
    "        x = place[turn[0]]\n",
    "        y = int(turn[1:])-1\n",
    "        return x, y\n",
    "\n",
    "import random as rand\n",
    "class Random_player():\n",
    "    def move(self, playground):\n",
    "        x, y = rand.randint(0, 14), rand.randint(0, 14)\n",
    "        while (playground.board[x][y] != 0):\n",
    "            x, y = rand.randint(0, 14), rand.randint(0, 14)\n",
    "        return x, y\n",
    "      \n",
    "class Simple_keras_ai():\n",
    "    def __init__(self, graph, weights):\n",
    "        self.model = graph()\n",
    "        self.model.compile(optimizer=Adam(lr=1e-4), loss='categorical_crossentropy', metrics=['accuracy'])\n",
    "        self.model.load_weights(weights)\n",
    "\n",
    "    def move(self, playground):\n",
    "        prob = self.model.predict(playground.board.reshape((1, 15, 15, 1)))\n",
    "        num = np.argmax(prob, axis=1)[0]\n",
    "        return int(num/15), num%15"
   ]
  },
  {
   "cell_type": "code",
   "execution_count": 0,
   "metadata": {
    "colab": {
     "autoexec": {
      "startup": false,
      "wait_interval": 0
     }
    },
    "colab_type": "code",
    "id": "fYxttxfGAKVG",
    "outputId": "00c9a996-f630-4249-df8f-1c5843cd9365"
   },
   "outputs": [
    {
     "name": "stdout",
     "output_type": "stream",
     "text": [
      "    1   2   3   4   5   6   7   8   9  10  11  12  13  14  15 \n",
      "  -------------------------------------------------------------\n",
      "a |   |   |   |   |   |   |   |   |   |   |   |   |   |   |   |\n",
      "  -------------------------------------------------------------\n",
      "b |   |   |   |   |   |   |   |   |   |   |   |   |   |   |   |\n",
      "  -------------------------------------------------------------\n",
      "c |   |   |   |   |   |   |   |   |   |   |   |   |   |   |   |\n",
      "  -------------------------------------------------------------\n",
      "d |   |   |   |   |   |   |   |   |   |   |   |   |   |   |   |\n",
      "  -------------------------------------------------------------\n",
      "e |   |   |   |   |   |   |   |   |   |   |   |   |   |   |   |\n",
      "  -------------------------------------------------------------\n",
      "f |   ||E||   |   |   |   |   |   |   |   |   |   | O |   |   |\n",
      "  -------------------------------------------------------------\n",
      "g |   |   |   |   |   |   |   |   |   |   |   |   | X |   |   |\n",
      "  -------------------------------------------------------------\n",
      "h |   |   |   |   |   |   |   |   |   |   |   |   |   |   |   |\n",
      "  -------------------------------------------------------------\n",
      "j |   |   |   |   |   |   |   |   |   |   |   |   |   |   |   |\n",
      "  -------------------------------------------------------------\n",
      "k |   |   |   |   |   |   |   |   |   |   |   |   |   |   |   |\n",
      "  -------------------------------------------------------------\n",
      "l |   |   |   |   |   |   |   |   |   |   |   |   |   |   |   |\n",
      "  -------------------------------------------------------------\n",
      "m |   |   |   |   |   |   |   |   |   |   |   |   |   |   |   |\n",
      "  -------------------------------------------------------------\n",
      "n |   |   |   |   |   |   |   |   |   |   |   |   |   |   |   |\n",
      "  -------------------------------------------------------------\n",
      "o |   |   |   | O |   |   |   |   |   |   |   |   |   |   |   |\n",
      "  -------------------------------------------------------------\n",
      "p |   |   |   | X |   |   |   |   |   |   |   |   |   |   |   |\n",
      "  -------------------------------------------------------------\n",
      "\n",
      "  History:\n",
      "  X-p4  O-o4  X-g13  O-f13  X-f2  O-f2\n",
      "  -------------------------------------------------------------\n",
      "  O made illegal move. Winner: X\n"
     ]
    }
   ],
   "source": [
    "pl = Playground(Human(), Simple_keras_ai(simple_policy, 'drive/Colab Notebooks/model/weights.1_4.76.hdf5'))\n",
    "pl.start_game()"
   ]
  },
  {
   "cell_type": "code",
   "execution_count": 0,
   "metadata": {
    "colab": {
     "autoexec": {
      "startup": false,
      "wait_interval": 0
     }
    },
    "colab_type": "code",
    "collapsed": true,
    "id": "-GgerMPyAKVc"
   },
   "outputs": [],
   "source": []
  }
 ],
 "metadata": {
  "accelerator": "GPU",
  "colab": {
   "default_view": {},
   "name": "Playground_colab.ipynb",
   "provenance": [],
   "version": "0.3.2",
   "views": {}
  },
  "kernelspec": {
   "display_name": "Python 3",
   "language": "python",
   "name": "python3"
  },
  "language_info": {
   "codemirror_mode": {
    "name": "ipython",
    "version": 3
   },
   "file_extension": ".py",
   "mimetype": "text/x-python",
   "name": "python",
   "nbconvert_exporter": "python",
   "pygments_lexer": "ipython3",
   "version": "3.6.3"
  }
 },
 "nbformat": 4,
 "nbformat_minor": 1
}
